{
 "cells": [
  {
   "cell_type": "code",
   "execution_count": 1,
   "metadata": {},
   "outputs": [],
   "source": [
    "import os\n",
    "import pandas as pd\n",
    "import matplotlib .pyplot as plt\n",
    "import numpy as np"
   ]
  },
  {
   "cell_type": "code",
   "execution_count": 9,
   "metadata": {},
   "outputs": [
    {
     "name": "stdout",
     "output_type": "stream",
     "text": [
      "../Instructions/data/departments.csv\n",
      "../Instructions/data/dept_emp.csv\n",
      "../Instructions/data/dept_manager.csv\n",
      "../Instructions/data/employees.csv\n",
      "../Instructions/data/salaries.csv\n",
      "../Instructions/data/titles.csv\n"
     ]
    }
   ],
   "source": [
    "#Import cvs files and change to panda dataframes\n",
    "filenames = os.listdir(\"../Instructions/data/\")\n",
    "filenames = [\n",
    "    os.path.join( \"../Instructions/data/\", f)\n",
    "    for f in filenames\n",
    "]\n",
    "dfs = [\n",
    "    pd.read_csv(f)\n",
    "    for f in filenames\n",
    "    \n",
    "]\n",
    "\n",
    "for f in filenames:\n",
    "    print(f)\n",
    "    "
   ]
  },
  {
   "cell_type": "code",
   "execution_count": 11,
   "metadata": {},
   "outputs": [
    {
     "name": "stdout",
     "output_type": "stream",
     "text": [
      "Index(['dept_no', 'dept_name'], dtype='object')\n",
      "dept_no      object\n",
      "dept_name    object\n",
      "dtype: object\n",
      "Index(['emp_no', 'dept_no', 'from_date', 'to_date'], dtype='object')\n",
      "emp_no        int64\n",
      "dept_no      object\n",
      "from_date    object\n",
      "to_date      object\n",
      "dtype: object\n",
      "Index(['dept_no', 'emp_no', 'from_date', 'to_date'], dtype='object')\n",
      "dept_no      object\n",
      "emp_no        int64\n",
      "from_date    object\n",
      "to_date      object\n",
      "dtype: object\n",
      "Index(['emp_no', 'birth_date', 'first_name', 'last_name', 'gender',\n",
      "       'hire_date'],\n",
      "      dtype='object')\n",
      "emp_no         int64\n",
      "birth_date    object\n",
      "first_name    object\n",
      "last_name     object\n",
      "gender        object\n",
      "hire_date     object\n",
      "dtype: object\n",
      "Index(['emp_no', 'salary', 'from_date', 'to_date'], dtype='object')\n",
      "emp_no        int64\n",
      "salary        int64\n",
      "from_date    object\n",
      "to_date      object\n",
      "dtype: object\n",
      "Index(['emp_no', 'title', 'from_date', 'to_date'], dtype='object')\n",
      "emp_no        int64\n",
      "title        object\n",
      "from_date    object\n",
      "to_date      object\n",
      "dtype: object\n"
     ]
    }
   ],
   "source": [
    "index=0\n",
    "for x in dfs:\n",
    "    \n",
    "    print(dfs[index].columns)\n",
    "    print(dfs[index].dtypes)\n",
    "    \n",
    "    index=index+1"
   ]
  },
  {
   "cell_type": "code",
   "execution_count": null,
   "metadata": {},
   "outputs": [],
   "source": []
  }
 ],
 "metadata": {
  "kernelspec": {
   "display_name": "Python 3",
   "language": "python",
   "name": "python3"
  },
  "language_info": {
   "codemirror_mode": {
    "name": "ipython",
    "version": 3
   },
   "file_extension": ".py",
   "mimetype": "text/x-python",
   "name": "python",
   "nbconvert_exporter": "python",
   "pygments_lexer": "ipython3",
   "version": "3.7.3"
  }
 },
 "nbformat": 4,
 "nbformat_minor": 2
}
